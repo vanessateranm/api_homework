{
 "cells": [
  {
   "cell_type": "markdown",
   "id": "26e817ef",
   "metadata": {},
   "source": [
    "# # Unit 5 - Financial Planning"
   ]
  },
  {
   "cell_type": "code",
   "execution_count": 1,
   "id": "264f97f3-e2f0-4241-a42c-8f69dbc211eb",
   "metadata": {},
   "outputs": [],
   "source": [
    "# Initial imports\n",
    "import os\n",
    "import requests\n",
    "import pandas as pd\n",
    "from dotenv import load_dotenv\n",
    "import alpaca_trade_api as tradeapi\n",
    "from MCForecastTools import MCSimulation\n",
    "from datetime import datetime\n",
    "from datetime import timedelta\n",
    "from alpaca_trade_api.rest import REST, TimeFrame, TimeFrameUnit\n",
    "\n",
    "%matplotlib inline\n",
    "\n",
    "debugtoggle = True"
   ]
  },
  {
   "cell_type": "code",
   "execution_count": 2,
   "id": "5a5d13b3-3989-44fc-8c3f-2697c40d02c3",
   "metadata": {},
   "outputs": [
    {
     "data": {
      "text/plain": [
       "True"
      ]
     },
     "execution_count": 2,
     "metadata": {},
     "output_type": "execute_result"
    }
   ],
   "source": [
    "# Load .env enviroment variables\n",
    "load_dotenv()"
   ]
  },
  {
   "cell_type": "markdown",
   "id": "6d3d3822-42ce-4600-af24-ff03b3aeb8aa",
   "metadata": {},
   "source": [
    "# Part 1: Personal Financial Planner"
   ]
  },
  {
   "cell_type": "markdown",
   "id": "cac9bdab-706c-4de8-a867-8c6757babd93",
   "metadata": {},
   "source": [
    "## Collect Crypto Prices Using the requests Library"
   ]
  },
  {
   "cell_type": "markdown",
   "id": "b3ef1992-c70d-4b49-a887-3d1874d271eb",
   "metadata": {},
   "source": [
    "Set current amount of crypto assets"
   ]
  },
  {
   "cell_type": "code",
   "execution_count": 3,
   "id": "ce0460d0-adde-4064-ad8e-74173555bfb5",
   "metadata": {},
   "outputs": [],
   "source": [
    "BTC=1.2"
   ]
  },
  {
   "cell_type": "code",
   "execution_count": 4,
   "id": "9650d729-0c49-4d84-bb97-a7ceaf07e623",
   "metadata": {},
   "outputs": [],
   "source": [
    "ETH=5.3"
   ]
  },
  {
   "cell_type": "code",
   "execution_count": 5,
   "id": "4e1007de-a1dc-4834-8285-f3b019e5c4f7",
   "metadata": {},
   "outputs": [],
   "source": [
    "# Crypto API URLs\n",
    "btc_url = \"https://api.alternative.me/v2/ticker/Bitcoin/?convert=CAD\"\n",
    "eth_url = \"https://api.alternative.me/v2/ticker/Ethereum/?convert=CAD\""
   ]
  },
  {
   "cell_type": "code",
   "execution_count": 6,
   "id": "03962059-6a52-4d15-8cda-543b732e26f7",
   "metadata": {},
   "outputs": [
    {
     "data": {
      "text/plain": [
       "'https://api.alternative.me/v2/ticker/Bitcoin/?convert=CAD'"
      ]
     },
     "execution_count": 6,
     "metadata": {},
     "output_type": "execute_result"
    }
   ],
   "source": [
    "btc_url"
   ]
  },
  {
   "cell_type": "code",
   "execution_count": 7,
   "id": "e8e86cc7-ed89-4176-ac67-68d82fe1055c",
   "metadata": {},
   "outputs": [
    {
     "data": {
      "text/plain": [
       "'https://api.alternative.me/v2/ticker/Ethereum/?convert=CAD'"
      ]
     },
     "execution_count": 7,
     "metadata": {},
     "output_type": "execute_result"
    }
   ],
   "source": [
    "eth_url"
   ]
  },
  {
   "cell_type": "code",
   "execution_count": 8,
   "id": "d36751bf-cf5e-42c4-8d8a-2ddd77a4bbfb",
   "metadata": {},
   "outputs": [],
   "source": [
    "# Fetch current BTC price\n",
    "response_data=requests.get(btc_url)\n",
    "data = response_data.json()\n",
    "my_btc_value=data['data']['1']['quotes']['CAD']['price']"
   ]
  },
  {
   "cell_type": "code",
   "execution_count": 9,
   "id": "dc54e25b-e006-42d7-bd7f-a33592b6f57a",
   "metadata": {},
   "outputs": [
    {
     "name": "stdout",
     "output_type": "stream",
     "text": [
      "The current value of your 1.2 BTC is $57484.33\n"
     ]
    }
   ],
   "source": [
    "print(f\"The current value of your {BTC} BTC is ${my_btc_value:0.2f}\")"
   ]
  },
  {
   "cell_type": "code",
   "execution_count": 10,
   "id": "2099d097-dfa5-4c10-9a95-051934243a90",
   "metadata": {},
   "outputs": [
    {
     "data": {
      "text/plain": [
       "4321.7162"
      ]
     },
     "execution_count": 10,
     "metadata": {},
     "output_type": "execute_result"
    }
   ],
   "source": [
    "# Fetch current BTC price\n",
    "eth_response_data=requests.get(eth_url)\n",
    "data = eth_response_data.json()\n",
    "my_eth_value=data['data']['1027']['quotes']['CAD']['price']\n",
    "my_eth_value"
   ]
  },
  {
   "cell_type": "code",
   "execution_count": 11,
   "id": "2e04a97a-891c-4d89-977d-d7452d938f2f",
   "metadata": {},
   "outputs": [
    {
     "name": "stdout",
     "output_type": "stream",
     "text": [
      "The current value of your 5.3 ETH is $4321.72\n"
     ]
    }
   ],
   "source": [
    "print(f\"The current value of your {ETH} ETH is ${my_eth_value:0.2f}\")"
   ]
  },
  {
   "cell_type": "markdown",
   "id": "a958c38b-0e16-4073-9394-0c4960179cc4",
   "metadata": {},
   "source": [
    "## Collect Investments Data Using Alpaca: SPY (stocks) and AGG (bonds)"
   ]
  },
  {
   "cell_type": "code",
   "execution_count": 12,
   "id": "59b5d82a-5797-49a7-a532-aa62d50b4bd6",
   "metadata": {},
   "outputs": [],
   "source": [
    "# Set current amount of shares\n",
    "my_agg = 200\n",
    "my_spy = 50"
   ]
  },
  {
   "cell_type": "code",
   "execution_count": 13,
   "id": "f4de0aee-70b6-4852-8f6d-fce726b759ee",
   "metadata": {},
   "outputs": [],
   "source": [
    "# Set Alpaca API key and secret\n",
    "api_key=os.getenv(\"alpaca_api_key\")\n",
    "\n",
    "# Create the Alpaca API object\n",
    "api_secret_key=os.getenv(\"alpaca_secret_key\")"
   ]
  },
  {
   "cell_type": "code",
   "execution_count": 14,
   "id": "1f5343bc-adf8-431c-b5d6-80b2c7f39d97",
   "metadata": {},
   "outputs": [
    {
     "data": {
      "text/plain": [
       "'fGvp3ZhuBy8cdSHtMv3JKoQcjTfDlLQDj14kNPQL'"
      ]
     },
     "execution_count": 14,
     "metadata": {},
     "output_type": "execute_result"
    }
   ],
   "source": [
    "api_secret_key"
   ]
  },
  {
   "cell_type": "code",
   "execution_count": 16,
   "id": "ae33626f-9895-4bb6-9f40-7726f50f62de",
   "metadata": {},
   "outputs": [
    {
     "name": "stdout",
     "output_type": "stream",
     "text": [
      "              open     high       low   close    volume  trade_count  \\\n",
      "2022-03-21  107.58  107.649  106.9841  107.04   7583668        27316   \n",
      "2022-03-21  444.45  446.460  440.6800  444.30  85377983       912432   \n",
      "\n",
      "                  vwap symbol  \n",
      "2022-03-21  107.310151    AGG  \n",
      "2022-03-21  443.796432    SPY  \n"
     ]
    }
   ],
   "source": [
    "# Format current date as ISO format\n",
    "start_date = \"2022-03-21\"\n",
    "end_date = \"2022-03-21\"\n",
    "\n",
    "# Set the tickers\n",
    "tickers = [\"AGG\", \"SPY\"]\n",
    "\n",
    "# Set timeframe to '1D' for Alpaca API\n",
    "timeframe = \"1D\"\n",
    "\n",
    "# Get current closing prices for SPY and AGG\n",
    "# (use a limit=1000 parameter to call the most recent 1000 days of data)\n",
    "api = REST(api_key , api_secret_key, api_version='v2')\n",
    "stock_and_bond_prices = api.get_bars(tickers, TimeFrame.Day, start_date, end_date, adjustment='raw').df\n",
    "stock_and_bond_prices.index = stock_and_bond_prices.index.date\n",
    "\n",
    "# Preview DataFrame\n",
    "if (debugtoggle):\n",
    "    print(f'{stock_and_bond_prices.head()}')\n",
    "    #print(f'here {stock_and_bond_prices[[\"close\",\"symbol\"]]}')"
   ]
  },
  {
   "cell_type": "code",
   "execution_count": 17,
   "id": "84ebc97a-dea3-4b2d-9b02-0f44f33bd884",
   "metadata": {},
   "outputs": [
    {
     "name": "stdout",
     "output_type": "stream",
     "text": [
      "Current AGG closing price: $107.04\n",
      "Current SPY closing price: $444.3\n"
     ]
    }
   ],
   "source": [
    "# Pick AGG and SPY close prices\n",
    "stock_and_bond_prices = stock_and_bond_prices[[\"close\",\"symbol\"]]\n",
    "#rslt_df = dataframe[dataframe['Percentage'] > 80]\n",
    "agg_close_price = float(stock_and_bond_prices[stock_and_bond_prices['symbol']==\"AGG\"].iloc[0][\"close\"])\n",
    "spy_close_price = float(stock_and_bond_prices[stock_and_bond_prices['symbol']==\"SPY\"].iloc[0][\"close\"])\n",
    "# Print AGG and SPY close prices\n",
    "print(f\"Current AGG closing price: ${agg_close_price}\")\n",
    "print(f\"Current SPY closing price: ${spy_close_price}\")"
   ]
  },
  {
   "cell_type": "code",
   "execution_count": 18,
   "id": "90c5dade-970b-448a-a8a6-00ea5b1b8c9c",
   "metadata": {},
   "outputs": [
    {
     "name": "stdout",
     "output_type": "stream",
     "text": [
      "The current value of your 50 SPY shares is $22,215.00\n",
      "The current value of your 200 AGG shares is $21,408.00\n"
     ]
    }
   ],
   "source": [
    "# Compute the current value of shares\n",
    "my_spy_value = my_spy * spy_close_price\n",
    "my_agg_value = my_agg * agg_close_price\n",
    "\n",
    "# Print current value of shares\n",
    "print(f\"The current value of your {my_spy} SPY shares is ${my_spy_value:,.2f}\")\n",
    "print(f\"The current value of your {my_agg} AGG shares is ${my_agg_value:,.2f}\")"
   ]
  },
  {
   "cell_type": "markdown",
   "id": "e78bba6a-ecff-466a-afc4-072260b750b4",
   "metadata": {},
   "source": [
    "## Savings Health Analysis"
   ]
  },
  {
   "cell_type": "code",
   "execution_count": 19,
   "id": "9f60d647-78f0-4a0f-a1ed-e2eae5b7f2d1",
   "metadata": {},
   "outputs": [
    {
     "data": {
      "text/html": [
       "<div>\n",
       "<style scoped>\n",
       "    .dataframe tbody tr th:only-of-type {\n",
       "        vertical-align: middle;\n",
       "    }\n",
       "\n",
       "    .dataframe tbody tr th {\n",
       "        vertical-align: top;\n",
       "    }\n",
       "\n",
       "    .dataframe thead th {\n",
       "        text-align: right;\n",
       "    }\n",
       "</style>\n",
       "<table border=\"1\" class=\"dataframe\">\n",
       "  <thead>\n",
       "    <tr style=\"text-align: right;\">\n",
       "      <th></th>\n",
       "      <th>Amount</th>\n",
       "    </tr>\n",
       "  </thead>\n",
       "  <tbody>\n",
       "    <tr>\n",
       "      <th>Shares</th>\n",
       "      <td>43623.0000</td>\n",
       "    </tr>\n",
       "    <tr>\n",
       "      <th>Crypto</th>\n",
       "      <td>61806.0442</td>\n",
       "    </tr>\n",
       "  </tbody>\n",
       "</table>\n",
       "</div>"
      ],
      "text/plain": [
       "            Amount\n",
       "Shares  43623.0000\n",
       "Crypto  61806.0442"
      ]
     },
     "metadata": {},
     "output_type": "display_data"
    }
   ],
   "source": [
    "# Set monthly household income\n",
    "monthly_income = 12000\n",
    "\n",
    "# Consolidate financial assets data\n",
    "shares_value = my_spy_value+my_agg_value\n",
    "crypto_value = my_btc_value+my_eth_value\n",
    "savings_data = [shares_value, crypto_value]\n",
    "\n",
    "# Create savings DataFrame\n",
    "df_savings = pd.DataFrame(savings_data, columns = ['Amount'], index = ['Shares','Crypto']) \n",
    "\n",
    "\n",
    "# Display savings DataFrame\n",
    "display(df_savings)"
   ]
  },
  {
   "cell_type": "code",
   "execution_count": 20,
   "id": "377022e6-1d66-4d87-9210-f4370cff660a",
   "metadata": {},
   "outputs": [
    {
     "data": {
      "text/plain": [
       "<AxesSubplot:title={'center':'Personal Savings'}, ylabel='Amount'>"
      ]
     },
     "execution_count": 20,
     "metadata": {},
     "output_type": "execute_result"
    },
    {
     "data": {
      "image/png": "[encoded data removed]",
      "text/plain": [
       "<Figure size 432x288 with 1 Axes>"
      ]
     },
     "metadata": {},
     "output_type": "display_data"
    }
   ],
   "source": [
    "# Plot savings pie chart\n",
    "df_savings.plot.pie(y='Amount',title='Personal Savings')"
   ]
  },
  {
   "cell_type": "code",
   "execution_count": 21,
   "id": "1222ebce-a077-49de-b829-4e6dcf4f94b0",
   "metadata": {},
   "outputs": [
    {
     "name": "stdout",
     "output_type": "stream",
     "text": [
      "Congratulations! You have enough money in your savings fund\n"
     ]
    }
   ],
   "source": [
    "# Set ideal emergency fund\n",
    "emergency_fund = monthly_income * 3\n",
    "\n",
    "# Calculate total amount of savings\n",
    "total_savings = shares_value + crypto_value\n",
    "\n",
    "# Validate saving health\n",
    "if total_savings > emergency_fund:\n",
    "    print('Congratulations! You have enough money in your savings fund')\n",
    "elif total_savings == emergency_fund: \n",
    "    print('Congratulations! You have reached your financial goal')\n",
    "else:\n",
    "    diff_efund == (emergency_fund - total_savings)\n",
    "    print(f\"Keep up the good work... You're ${diff_efund} away from reaching your financial goal\")"
   ]
  },
  {
   "cell_type": "markdown",
   "id": "bd311f02-6954-42ea-937d-c90facff7a7d",
   "metadata": {},
   "source": [
    "# Part 2 - Retirement Planning"
   ]
  },
  {
   "cell_type": "markdown",
   "id": "72a0de06-85b9-46dc-956a-51ba0f817bd2",
   "metadata": {},
   "source": [
    "## Monte Carlo Simulation"
   ]
  },
  {
   "cell_type": "code",
   "execution_count": 22,
   "id": "d5d11e14-8882-4908-ab82-b1510268c435",
   "metadata": {},
   "outputs": [],
   "source": [
    "# Set start and end dates of five years back from today.\n",
    "# Sample results may vary from the solution based on the time frame chosen\n",
    "\n",
    "##### Commenting Deprecated way to pass the start and end dates with the API\n",
    "#start_date = pd.Timestamp('2016-05-01', tz='America/New_York').isoformat()\n",
    "#end_date = pd.Timestamp('2021-05-01', tz='America/New_York').isoformat()\n",
    "\n",
    "#Updated way to pass the dates with the API\n",
    "start_date = \"2017-03-20\"\n",
    "end_date = \"2022-03-20\""
   ]
  },
  {
   "cell_type": "code",
   "execution_count": 23,
   "id": "a08fdc59-6730-4046-9e8b-1c7f07f7317b",
   "metadata": {},
   "outputs": [
    {
     "data": {
      "text/html": [
       "<div>\n",
       "<style scoped>\n",
       "    .dataframe tbody tr th:only-of-type {\n",
       "        vertical-align: middle;\n",
       "    }\n",
       "\n",
       "    .dataframe tbody tr th {\n",
       "        vertical-align: top;\n",
       "    }\n",
       "\n",
       "    .dataframe thead th {\n",
       "        text-align: right;\n",
       "    }\n",
       "</style>\n",
       "<table border=\"1\" class=\"dataframe\">\n",
       "  <thead>\n",
       "    <tr style=\"text-align: right;\">\n",
       "      <th></th>\n",
       "      <th>close</th>\n",
       "      <th>symbol</th>\n",
       "    </tr>\n",
       "  </thead>\n",
       "  <tbody>\n",
       "    <tr>\n",
       "      <th>2017-03-20</th>\n",
       "      <td>108.05</td>\n",
       "      <td>AGG</td>\n",
       "    </tr>\n",
       "    <tr>\n",
       "      <th>2017-03-21</th>\n",
       "      <td>108.27</td>\n",
       "      <td>AGG</td>\n",
       "    </tr>\n",
       "    <tr>\n",
       "      <th>2017-03-22</th>\n",
       "      <td>108.42</td>\n",
       "      <td>AGG</td>\n",
       "    </tr>\n",
       "    <tr>\n",
       "      <th>2017-03-23</th>\n",
       "      <td>108.45</td>\n",
       "      <td>AGG</td>\n",
       "    </tr>\n",
       "    <tr>\n",
       "      <th>2017-03-24</th>\n",
       "      <td>108.36</td>\n",
       "      <td>AGG</td>\n",
       "    </tr>\n",
       "  </tbody>\n",
       "</table>\n",
       "</div>"
      ],
      "text/plain": [
       "             close symbol\n",
       "2017-03-20  108.05    AGG\n",
       "2017-03-21  108.27    AGG\n",
       "2017-03-22  108.42    AGG\n",
       "2017-03-23  108.45    AGG\n",
       "2017-03-24  108.36    AGG"
      ]
     },
     "execution_count": 23,
     "metadata": {},
     "output_type": "execute_result"
    }
   ],
   "source": [
    "# Get 5 years' worth of historical data for SPY and AGG\n",
    "# (use a limit=1000 parameter to call the most recent 1000 days of data)\n",
    "api = REST(api_key , api_secret_key, api_version='v2')\n",
    "df_stock_data = api.get_bars(tickers, TimeFrame.Day, start_date, end_date, adjustment='raw').df\n",
    "df_stock_data.index=df_stock_data.index.date\n",
    "df_stock_data=df_stock_data[['close', 'symbol']]\n",
    "\n",
    "# Display sample data\n",
    "df_stock_data.head()"
   ]
  },
  {
   "cell_type": "code",
   "execution_count": 24,
   "id": "a4fce07f-14ab-4f6e-b9a4-b1c514613928",
   "metadata": {},
   "outputs": [
    {
     "data": {
      "text/html": [
       "<div>\n",
       "<style scoped>\n",
       "    .dataframe tbody tr th:only-of-type {\n",
       "        vertical-align: middle;\n",
       "    }\n",
       "\n",
       "    .dataframe tbody tr th {\n",
       "        vertical-align: top;\n",
       "    }\n",
       "\n",
       "    .dataframe thead tr th {\n",
       "        text-align: left;\n",
       "    }\n",
       "</style>\n",
       "<table border=\"1\" class=\"dataframe\">\n",
       "  <thead>\n",
       "    <tr>\n",
       "      <th></th>\n",
       "      <th>AGG</th>\n",
       "      <th>SPY</th>\n",
       "    </tr>\n",
       "    <tr>\n",
       "      <th></th>\n",
       "      <th>close</th>\n",
       "      <th>close</th>\n",
       "    </tr>\n",
       "  </thead>\n",
       "  <tbody>\n",
       "    <tr>\n",
       "      <th>2017-03-20</th>\n",
       "      <td>108.05</td>\n",
       "      <td>236.77</td>\n",
       "    </tr>\n",
       "    <tr>\n",
       "      <th>2017-03-21</th>\n",
       "      <td>108.27</td>\n",
       "      <td>233.73</td>\n",
       "    </tr>\n",
       "    <tr>\n",
       "      <th>2017-03-22</th>\n",
       "      <td>108.42</td>\n",
       "      <td>234.28</td>\n",
       "    </tr>\n",
       "    <tr>\n",
       "      <th>2017-03-23</th>\n",
       "      <td>108.45</td>\n",
       "      <td>234.03</td>\n",
       "    </tr>\n",
       "    <tr>\n",
       "      <th>2017-03-24</th>\n",
       "      <td>108.36</td>\n",
       "      <td>233.86</td>\n",
       "    </tr>\n",
       "    <tr>\n",
       "      <th>...</th>\n",
       "      <td>...</td>\n",
       "      <td>...</td>\n",
       "    </tr>\n",
       "    <tr>\n",
       "      <th>2022-03-14</th>\n",
       "      <td>107.36</td>\n",
       "      <td>417.00</td>\n",
       "    </tr>\n",
       "    <tr>\n",
       "      <th>2022-03-15</th>\n",
       "      <td>107.60</td>\n",
       "      <td>426.17</td>\n",
       "    </tr>\n",
       "    <tr>\n",
       "      <th>2022-03-16</th>\n",
       "      <td>107.68</td>\n",
       "      <td>435.55</td>\n",
       "    </tr>\n",
       "    <tr>\n",
       "      <th>2022-03-17</th>\n",
       "      <td>107.86</td>\n",
       "      <td>441.07</td>\n",
       "    </tr>\n",
       "    <tr>\n",
       "      <th>2022-03-18</th>\n",
       "      <td>108.10</td>\n",
       "      <td>444.31</td>\n",
       "    </tr>\n",
       "  </tbody>\n",
       "</table>\n",
       "<p>1260 rows × 2 columns</p>\n",
       "</div>"
      ],
      "text/plain": [
       "               AGG     SPY\n",
       "             close   close\n",
       "2017-03-20  108.05  236.77\n",
       "2017-03-21  108.27  233.73\n",
       "2017-03-22  108.42  234.28\n",
       "2017-03-23  108.45  234.03\n",
       "2017-03-24  108.36  233.86\n",
       "...            ...     ...\n",
       "2022-03-14  107.36  417.00\n",
       "2022-03-15  107.60  426.17\n",
       "2022-03-16  107.68  435.55\n",
       "2022-03-17  107.86  441.07\n",
       "2022-03-18  108.10  444.31\n",
       "\n",
       "[1260 rows x 2 columns]"
      ]
     },
     "execution_count": 24,
     "metadata": {},
     "output_type": "execute_result"
    }
   ],
   "source": [
    "#Manipulating the DF to work with the MCSimulation function\n",
    "pivottable = pd.pivot_table(df_stock_data, values='close', index=df_stock_data.index, columns=['symbol'])\n",
    "ticker_name = list(pivottable.columns)\n",
    "ticker_name = [(x,'close') for x in pivottable.columns]\n",
    "micolumns = pd.MultiIndex.from_tuples(ticker_name)\n",
    "pivottable.columns = micolumns\n",
    "pivottable"
   ]
  },
  {
   "cell_type": "code",
   "execution_count": 25,
   "id": "a9e222a6-0904-4094-9cd3-2116dee80dfd",
   "metadata": {},
   "outputs": [],
   "source": [
    "# Configuring a Monte Carlo simulation to forecast thirty years cumulative returns\n",
    "\n",
    "# Assum a traditional 40/60 portfolio using the SPY and AGG tickers to represent \n",
    "# the 60% stocks (SPY) and 40% bonds (AGG) composition of the portfolio. \n",
    "\n",
    "MC_thirtyyears = MCSimulation(\n",
    "    portfolio_data = pivottable,\n",
    "    weights = [.40,.60],\n",
    "    num_simulation = 500,\n",
    "    num_trading_days = 252*30\n",
    ")"
   ]
  },
  {
   "cell_type": "code",
   "execution_count": 27,
   "id": "477b0828-b8fc-4917-bf02-fbc8f113c47d",
   "metadata": {},
   "outputs": [
    {
     "name": "stdout",
     "output_type": "stream",
     "text": [
      " Printing the simulation input data \n",
      "\n",
      "                AGG                  SPY             \n",
      "             close daily_return   close daily_return\n",
      "2017-03-20  108.05          NaN  236.77          NaN\n",
      "2017-03-21  108.27     0.002036  233.73    -0.012839\n",
      "2017-03-22  108.42     0.001385  234.28     0.002353\n",
      "2017-03-23  108.45     0.000277  234.03    -0.001067\n",
      "2017-03-24  108.36    -0.000830  233.86    -0.000726\n"
     ]
    }
   ],
   "source": [
    "# Printing the simulation input data\n",
    "print(f\" Printing the simulation input data \\n\\n {MC_thirtyyears.portfolio_data.head()}\")"
   ]
  },
  {
   "cell_type": "code",
   "execution_count": 28,
   "id": "6fc5c8c3-4fec-4cc9-9317-ce3f5fcb802f",
   "metadata": {},
   "outputs": [
    {
     "name": "stdout",
     "output_type": "stream",
     "text": [
      "Running Monte Carlo simulation number 0.\n",
      "Running Monte Carlo simulation number 10.\n",
      "Running Monte Carlo simulation number 20.\n",
      "Running Monte Carlo simulation number 30.\n",
      "Running Monte Carlo simulation number 40.\n",
      "Running Monte Carlo simulation number 50.\n",
      "Running Monte Carlo simulation number 60.\n",
      "Running Monte Carlo simulation number 70.\n",
      "Running Monte Carlo simulation number 80.\n",
      "Running Monte Carlo simulation number 90.\n",
      "Running Monte Carlo simulation number 100.\n"
     ]
    },
    {
     "name": "stderr",
     "output_type": "stream",
     "text": [
      "/Users/vanessateranm/Desktop/test/UTOR-VIRT-FIN-PT-02-2022-U-LOL-main/Homeworks/05-APIs/Instructions/Starter_Code/MCForecastTools.py:117: PerformanceWarning: DataFrame is highly fragmented.  This is usually the result of calling `frame.insert` many times, which has poor performance.  Consider joining all columns at once using pd.concat(axis=1) instead.  To get a de-fragmented frame, use `newframe = frame.copy()`\n",
      "  portfolio_cumulative_returns[n] = (1 + sim_df.fillna(0)).cumprod()\n"
     ]
    },
    {
     "name": "stdout",
     "output_type": "stream",
     "text": [
      "Running Monte Carlo simulation number 110.\n",
      "Running Monte Carlo simulation number 120.\n",
      "Running Monte Carlo simulation number 130.\n",
      "Running Monte Carlo simulation number 140.\n",
      "Running Monte Carlo simulation number 150.\n",
      "Running Monte Carlo simulation number 160.\n",
      "Running Monte Carlo simulation number 170.\n",
      "Running Monte Carlo simulation number 180.\n",
      "Running Monte Carlo simulation number 190.\n",
      "Running Monte Carlo simulation number 200.\n",
      "Running Monte Carlo simulation number 210.\n",
      "Running Monte Carlo simulation number 220.\n",
      "Running Monte Carlo simulation number 230.\n",
      "Running Monte Carlo simulation number 240.\n",
      "Running Monte Carlo simulation number 250.\n",
      "Running Monte Carlo simulation number 260.\n",
      "Running Monte Carlo simulation number 270.\n",
      "Running Monte Carlo simulation number 280.\n",
      "Running Monte Carlo simulation number 290.\n",
      "Running Monte Carlo simulation number 300.\n",
      "Running Monte Carlo simulation number 310.\n",
      "Running Monte Carlo simulation number 320.\n",
      "Running Monte Carlo simulation number 330.\n",
      "Running Monte Carlo simulation number 340.\n",
      "Running Monte Carlo simulation number 350.\n",
      "Running Monte Carlo simulation number 360.\n",
      "Running Monte Carlo simulation number 370.\n",
      "Running Monte Carlo simulation number 380.\n",
      "Running Monte Carlo simulation number 390.\n",
      "Running Monte Carlo simulation number 400.\n",
      "Running Monte Carlo simulation number 410.\n",
      "Running Monte Carlo simulation number 420.\n",
      "Running Monte Carlo simulation number 430.\n",
      "Running Monte Carlo simulation number 440.\n",
      "Running Monte Carlo simulation number 450.\n",
      "Running Monte Carlo simulation number 460.\n",
      "Running Monte Carlo simulation number 470.\n",
      "Running Monte Carlo simulation number 480.\n",
      "Running Monte Carlo simulation number 490.\n"
     ]
    },
    {
     "data": {
      "text/html": [
       "<div>\n",
       "<style scoped>\n",
       "    .dataframe tbody tr th:only-of-type {\n",
       "        vertical-align: middle;\n",
       "    }\n",
       "\n",
       "    .dataframe tbody tr th {\n",
       "        vertical-align: top;\n",
       "    }\n",
       "\n",
       "    .dataframe thead th {\n",
       "        text-align: right;\n",
       "    }\n",
       "</style>\n",
       "<table border=\"1\" class=\"dataframe\">\n",
       "  <thead>\n",
       "    <tr style=\"text-align: right;\">\n",
       "      <th></th>\n",
       "      <th>0</th>\n",
       "      <th>1</th>\n",
       "      <th>2</th>\n",
       "      <th>3</th>\n",
       "      <th>4</th>\n",
       "      <th>5</th>\n",
       "      <th>6</th>\n",
       "      <th>7</th>\n",
       "      <th>8</th>\n",
       "      <th>9</th>\n",
       "      <th>...</th>\n",
       "      <th>490</th>\n",
       "      <th>491</th>\n",
       "      <th>492</th>\n",
       "      <th>493</th>\n",
       "      <th>494</th>\n",
       "      <th>495</th>\n",
       "      <th>496</th>\n",
       "      <th>497</th>\n",
       "      <th>498</th>\n",
       "      <th>499</th>\n",
       "    </tr>\n",
       "  </thead>\n",
       "  <tbody>\n",
       "    <tr>\n",
       "      <th>0</th>\n",
       "      <td>1.000000</td>\n",
       "      <td>1.000000</td>\n",
       "      <td>1.000000</td>\n",
       "      <td>1.000000</td>\n",
       "      <td>1.000000</td>\n",
       "      <td>1.000000</td>\n",
       "      <td>1.000000</td>\n",
       "      <td>1.000000</td>\n",
       "      <td>1.000000</td>\n",
       "      <td>1.000000</td>\n",
       "      <td>...</td>\n",
       "      <td>1.000000</td>\n",
       "      <td>1.000000</td>\n",
       "      <td>1.000000</td>\n",
       "      <td>1.000000</td>\n",
       "      <td>1.000000</td>\n",
       "      <td>1.000000</td>\n",
       "      <td>1.000000</td>\n",
       "      <td>1.000000</td>\n",
       "      <td>1.000000</td>\n",
       "      <td>1.000000</td>\n",
       "    </tr>\n",
       "    <tr>\n",
       "      <th>1</th>\n",
       "      <td>1.010269</td>\n",
       "      <td>1.005066</td>\n",
       "      <td>0.991632</td>\n",
       "      <td>1.005692</td>\n",
       "      <td>1.012452</td>\n",
       "      <td>1.001114</td>\n",
       "      <td>1.002542</td>\n",
       "      <td>0.993938</td>\n",
       "      <td>0.993626</td>\n",
       "      <td>1.002140</td>\n",
       "      <td>...</td>\n",
       "      <td>1.004582</td>\n",
       "      <td>1.006984</td>\n",
       "      <td>1.012110</td>\n",
       "      <td>1.007090</td>\n",
       "      <td>0.994653</td>\n",
       "      <td>0.997454</td>\n",
       "      <td>0.996374</td>\n",
       "      <td>1.001868</td>\n",
       "      <td>1.001724</td>\n",
       "      <td>0.987073</td>\n",
       "    </tr>\n",
       "    <tr>\n",
       "      <th>2</th>\n",
       "      <td>1.006177</td>\n",
       "      <td>1.008908</td>\n",
       "      <td>0.982788</td>\n",
       "      <td>1.016256</td>\n",
       "      <td>1.016418</td>\n",
       "      <td>0.993858</td>\n",
       "      <td>0.997461</td>\n",
       "      <td>0.997277</td>\n",
       "      <td>1.001205</td>\n",
       "      <td>0.999930</td>\n",
       "      <td>...</td>\n",
       "      <td>1.007001</td>\n",
       "      <td>1.006845</td>\n",
       "      <td>1.011524</td>\n",
       "      <td>1.018553</td>\n",
       "      <td>1.000793</td>\n",
       "      <td>1.007222</td>\n",
       "      <td>1.004693</td>\n",
       "      <td>1.001352</td>\n",
       "      <td>0.998793</td>\n",
       "      <td>0.983596</td>\n",
       "    </tr>\n",
       "    <tr>\n",
       "      <th>3</th>\n",
       "      <td>1.009941</td>\n",
       "      <td>1.002195</td>\n",
       "      <td>0.976134</td>\n",
       "      <td>1.008955</td>\n",
       "      <td>1.013650</td>\n",
       "      <td>0.999735</td>\n",
       "      <td>1.001008</td>\n",
       "      <td>0.995914</td>\n",
       "      <td>0.997674</td>\n",
       "      <td>1.010588</td>\n",
       "      <td>...</td>\n",
       "      <td>1.017721</td>\n",
       "      <td>1.010096</td>\n",
       "      <td>1.003478</td>\n",
       "      <td>1.028223</td>\n",
       "      <td>0.986938</td>\n",
       "      <td>1.018326</td>\n",
       "      <td>1.008767</td>\n",
       "      <td>1.001594</td>\n",
       "      <td>1.007347</td>\n",
       "      <td>0.975185</td>\n",
       "    </tr>\n",
       "    <tr>\n",
       "      <th>4</th>\n",
       "      <td>1.010130</td>\n",
       "      <td>1.001698</td>\n",
       "      <td>0.972973</td>\n",
       "      <td>1.002314</td>\n",
       "      <td>1.015941</td>\n",
       "      <td>0.986588</td>\n",
       "      <td>1.002212</td>\n",
       "      <td>0.992007</td>\n",
       "      <td>0.999668</td>\n",
       "      <td>1.005481</td>\n",
       "      <td>...</td>\n",
       "      <td>1.022940</td>\n",
       "      <td>1.023897</td>\n",
       "      <td>0.996519</td>\n",
       "      <td>1.025901</td>\n",
       "      <td>0.999590</td>\n",
       "      <td>1.011697</td>\n",
       "      <td>1.009891</td>\n",
       "      <td>1.004678</td>\n",
       "      <td>1.001058</td>\n",
       "      <td>0.969815</td>\n",
       "    </tr>\n",
       "    <tr>\n",
       "      <th>...</th>\n",
       "      <td>...</td>\n",
       "      <td>...</td>\n",
       "      <td>...</td>\n",
       "      <td>...</td>\n",
       "      <td>...</td>\n",
       "      <td>...</td>\n",
       "      <td>...</td>\n",
       "      <td>...</td>\n",
       "      <td>...</td>\n",
       "      <td>...</td>\n",
       "      <td>...</td>\n",
       "      <td>...</td>\n",
       "      <td>...</td>\n",
       "      <td>...</td>\n",
       "      <td>...</td>\n",
       "      <td>...</td>\n",
       "      <td>...</td>\n",
       "      <td>...</td>\n",
       "      <td>...</td>\n",
       "      <td>...</td>\n",
       "      <td>...</td>\n",
       "    </tr>\n",
       "    <tr>\n",
       "      <th>7556</th>\n",
       "      <td>23.412801</td>\n",
       "      <td>6.332214</td>\n",
       "      <td>9.782089</td>\n",
       "      <td>21.023196</td>\n",
       "      <td>48.230577</td>\n",
       "      <td>9.776441</td>\n",
       "      <td>8.517070</td>\n",
       "      <td>16.419932</td>\n",
       "      <td>7.744999</td>\n",
       "      <td>17.657662</td>\n",
       "      <td>...</td>\n",
       "      <td>5.651880</td>\n",
       "      <td>17.554616</td>\n",
       "      <td>6.383980</td>\n",
       "      <td>8.842271</td>\n",
       "      <td>36.876330</td>\n",
       "      <td>3.410241</td>\n",
       "      <td>17.435514</td>\n",
       "      <td>9.962617</td>\n",
       "      <td>4.999859</td>\n",
       "      <td>16.725768</td>\n",
       "    </tr>\n",
       "    <tr>\n",
       "      <th>7557</th>\n",
       "      <td>23.565504</td>\n",
       "      <td>6.303496</td>\n",
       "      <td>9.816478</td>\n",
       "      <td>21.111421</td>\n",
       "      <td>48.309917</td>\n",
       "      <td>9.803887</td>\n",
       "      <td>8.575277</td>\n",
       "      <td>16.437940</td>\n",
       "      <td>7.837333</td>\n",
       "      <td>17.737442</td>\n",
       "      <td>...</td>\n",
       "      <td>5.670937</td>\n",
       "      <td>17.295076</td>\n",
       "      <td>6.340315</td>\n",
       "      <td>8.837962</td>\n",
       "      <td>37.411661</td>\n",
       "      <td>3.399572</td>\n",
       "      <td>17.649872</td>\n",
       "      <td>9.988192</td>\n",
       "      <td>5.022288</td>\n",
       "      <td>16.804667</td>\n",
       "    </tr>\n",
       "    <tr>\n",
       "      <th>7558</th>\n",
       "      <td>23.685142</td>\n",
       "      <td>6.353876</td>\n",
       "      <td>9.783555</td>\n",
       "      <td>21.203391</td>\n",
       "      <td>48.920085</td>\n",
       "      <td>9.794434</td>\n",
       "      <td>8.567677</td>\n",
       "      <td>16.464579</td>\n",
       "      <td>7.752624</td>\n",
       "      <td>17.965516</td>\n",
       "      <td>...</td>\n",
       "      <td>5.714787</td>\n",
       "      <td>17.409869</td>\n",
       "      <td>6.364031</td>\n",
       "      <td>8.741414</td>\n",
       "      <td>37.936277</td>\n",
       "      <td>3.424870</td>\n",
       "      <td>17.751512</td>\n",
       "      <td>10.008340</td>\n",
       "      <td>4.995504</td>\n",
       "      <td>16.859209</td>\n",
       "    </tr>\n",
       "    <tr>\n",
       "      <th>7559</th>\n",
       "      <td>23.784175</td>\n",
       "      <td>6.430580</td>\n",
       "      <td>9.785333</td>\n",
       "      <td>21.204042</td>\n",
       "      <td>48.778927</td>\n",
       "      <td>9.611753</td>\n",
       "      <td>8.526733</td>\n",
       "      <td>16.614487</td>\n",
       "      <td>7.726352</td>\n",
       "      <td>17.915282</td>\n",
       "      <td>...</td>\n",
       "      <td>5.645272</td>\n",
       "      <td>17.557297</td>\n",
       "      <td>6.425476</td>\n",
       "      <td>8.664516</td>\n",
       "      <td>37.501291</td>\n",
       "      <td>3.453105</td>\n",
       "      <td>17.905997</td>\n",
       "      <td>9.953231</td>\n",
       "      <td>4.974353</td>\n",
       "      <td>16.832421</td>\n",
       "    </tr>\n",
       "    <tr>\n",
       "      <th>7560</th>\n",
       "      <td>23.764576</td>\n",
       "      <td>6.445334</td>\n",
       "      <td>9.863485</td>\n",
       "      <td>21.177509</td>\n",
       "      <td>48.541061</td>\n",
       "      <td>9.448495</td>\n",
       "      <td>8.501734</td>\n",
       "      <td>16.480173</td>\n",
       "      <td>7.833206</td>\n",
       "      <td>17.835740</td>\n",
       "      <td>...</td>\n",
       "      <td>5.610519</td>\n",
       "      <td>17.644741</td>\n",
       "      <td>6.380668</td>\n",
       "      <td>8.454669</td>\n",
       "      <td>37.323660</td>\n",
       "      <td>3.420807</td>\n",
       "      <td>17.860828</td>\n",
       "      <td>9.945358</td>\n",
       "      <td>5.000091</td>\n",
       "      <td>16.897486</td>\n",
       "    </tr>\n",
       "  </tbody>\n",
       "</table>\n",
       "<p>7561 rows × 500 columns</p>\n",
       "</div>"
      ],
      "text/plain": [
       "            0         1         2          3          4         5         6    \\\n",
       "0      1.000000  1.000000  1.000000   1.000000   1.000000  1.000000  1.000000   \n",
       "1      1.010269  1.005066  0.991632   1.005692   1.012452  1.001114  1.002542   \n",
       "2      1.006177  1.008908  0.982788   1.016256   1.016418  0.993858  0.997461   \n",
       "3      1.009941  1.002195  0.976134   1.008955   1.013650  0.999735  1.001008   \n",
       "4      1.010130  1.001698  0.972973   1.002314   1.015941  0.986588  1.002212   \n",
       "...         ...       ...       ...        ...        ...       ...       ...   \n",
       "7556  23.412801  6.332214  9.782089  21.023196  48.230577  9.776441  8.517070   \n",
       "7557  23.565504  6.303496  9.816478  21.111421  48.309917  9.803887  8.575277   \n",
       "7558  23.685142  6.353876  9.783555  21.203391  48.920085  9.794434  8.567677   \n",
       "7559  23.784175  6.430580  9.785333  21.204042  48.778927  9.611753  8.526733   \n",
       "7560  23.764576  6.445334  9.863485  21.177509  48.541061  9.448495  8.501734   \n",
       "\n",
       "            7         8          9    ...       490        491       492  \\\n",
       "0      1.000000  1.000000   1.000000  ...  1.000000   1.000000  1.000000   \n",
       "1      0.993938  0.993626   1.002140  ...  1.004582   1.006984  1.012110   \n",
       "2      0.997277  1.001205   0.999930  ...  1.007001   1.006845  1.011524   \n",
       "3      0.995914  0.997674   1.010588  ...  1.017721   1.010096  1.003478   \n",
       "4      0.992007  0.999668   1.005481  ...  1.022940   1.023897  0.996519   \n",
       "...         ...       ...        ...  ...       ...        ...       ...   \n",
       "7556  16.419932  7.744999  17.657662  ...  5.651880  17.554616  6.383980   \n",
       "7557  16.437940  7.837333  17.737442  ...  5.670937  17.295076  6.340315   \n",
       "7558  16.464579  7.752624  17.965516  ...  5.714787  17.409869  6.364031   \n",
       "7559  16.614487  7.726352  17.915282  ...  5.645272  17.557297  6.425476   \n",
       "7560  16.480173  7.833206  17.835740  ...  5.610519  17.644741  6.380668   \n",
       "\n",
       "           493        494       495        496        497       498        499  \n",
       "0     1.000000   1.000000  1.000000   1.000000   1.000000  1.000000   1.000000  \n",
       "1     1.007090   0.994653  0.997454   0.996374   1.001868  1.001724   0.987073  \n",
       "2     1.018553   1.000793  1.007222   1.004693   1.001352  0.998793   0.983596  \n",
       "3     1.028223   0.986938  1.018326   1.008767   1.001594  1.007347   0.975185  \n",
       "4     1.025901   0.999590  1.011697   1.009891   1.004678  1.001058   0.969815  \n",
       "...        ...        ...       ...        ...        ...       ...        ...  \n",
       "7556  8.842271  36.876330  3.410241  17.435514   9.962617  4.999859  16.725768  \n",
       "7557  8.837962  37.411661  3.399572  17.649872   9.988192  5.022288  16.804667  \n",
       "7558  8.741414  37.936277  3.424870  17.751512  10.008340  4.995504  16.859209  \n",
       "7559  8.664516  37.501291  3.453105  17.905997   9.953231  4.974353  16.832421  \n",
       "7560  8.454669  37.323660  3.420807  17.860828   9.945358  5.000091  16.897486  \n",
       "\n",
       "[7561 rows x 500 columns]"
      ]
     },
     "execution_count": 28,
     "metadata": {},
     "output_type": "execute_result"
    }
   ],
   "source": [
    "# Running a Monte Carlo simulation to forecast 30 years cumulative returns\n",
    "MC_thirtyyears.calc_cumulative_return()"
   ]
  },
  {
   "cell_type": "code",
   "execution_count": 29,
   "id": "4a608f1d-c18f-4fb5-8c39-f324f1e09e3e",
   "metadata": {},
   "outputs": [
    {
     "data": {
      "image/png": "[encoded data removed]",
      "text/plain": [
       "<Figure size 432x288 with 1 Axes>"
      ]
     },
     "metadata": {
      "needs_background": "light"
     },
     "output_type": "display_data"
    }
   ],
   "source": [
    "# Plot simulation outcomes\n",
    "line_plot = MC_thirtyyears.plot_simulation()\n",
    "line_plot.get_figure().savefig(\"MC_thirtyyear_sim_plot.png\", bbox_inches=\"tight\")"
   ]
  },
  {
   "cell_type": "code",
   "execution_count": 30,
   "id": "67b91f17-1f9e-4149-90c6-131dc90442df",
   "metadata": {},
   "outputs": [
    {
     "data": {
      "image/png": "[encoded data removed]",
      "text/plain": [
       "<Figure size 432x288 with 1 Axes>"
      ]
     },
     "metadata": {
      "needs_background": "light"
     },
     "output_type": "display_data"
    }
   ],
   "source": [
    "# Plot probability distribution and confidence intervals\n",
    "dist_plot = MC_thirtyyears.plot_distribution()\n",
    "\n",
    "# Save the plot for future usage\n",
    "dist_plot.get_figure().savefig('MC_thirtyyear_dist_plot.png',bbox_inches='tight')"
   ]
  },
  {
   "cell_type": "markdown",
   "id": "9ce090de-5c2c-4f2e-a533-e88ce68adc4e",
   "metadata": {},
   "source": [
    "## Retiterement Analysis"
   ]
  },
  {
   "cell_type": "code",
   "execution_count": 31,
   "id": "c7c080b7-212b-4c7a-87d9-3565930ba16e",
   "metadata": {},
   "outputs": [
    {
     "name": "stdout",
     "output_type": "stream",
     "text": [
      "count           500.000000\n",
      "mean             13.853153\n",
      "std              10.290638\n",
      "min               1.884465\n",
      "25%               7.020540\n",
      "50%              10.814239\n",
      "75%              18.105697\n",
      "max              77.284720\n",
      "95% CI Lower      3.072019\n",
      "95% CI Upper     39.723045\n",
      "Name: 7560, dtype: float64\n"
     ]
    }
   ],
   "source": [
    "# Fetch summary statistics from the Monte Carlo simulation results\n",
    "tbl_cumulative_return = MC_thirtyyears.summarize_cumulative_return()\n",
    "\n",
    "# Print summary statistics\n",
    "print(tbl_cumulative_return)"
   ]
  },
  {
   "cell_type": "markdown",
   "id": "5780d5ae-d7b6-4626-959c-10773801fbb7",
   "metadata": {},
   "source": [
    "## Calculate the expected portfolio return at the 95% lower and upper confidence intervals based on a $20,000 initial investment."
   ]
  },
  {
   "cell_type": "code",
   "execution_count": 32,
   "id": "e5a4fab2-6987-41a4-ab97-ff3efa52b7e5",
   "metadata": {},
   "outputs": [
    {
     "name": "stdout",
     "output_type": "stream",
     "text": [
      "There is a 95% chance that an initial investment of $20000 in the portfolio over the next 30 years will end within in the range of $61,440.38 and $794,460.9\n"
     ]
    }
   ],
   "source": [
    "# Set initial investment\n",
    "initial_investment = 20000\n",
    "\n",
    "# Use the lower and upper `95%` confidence intervals to calculate the range of the possible outcomes of our $20,000\n",
    "ci_lower = round(MC_thirtyyears.confidence_interval.iloc[0] * initial_investment, 2)\n",
    "ci_upper = round(MC_thirtyyears.confidence_interval.iloc[1] * initial_investment, 2)\n",
    "\n",
    "# Print results\n",
    "print(f\"There is a 95% chance that an initial investment of ${initial_investment} in the portfolio\"\n",
    "      f\" over the next 30 years will end within in the range of\"\n",
    "      f\" ${ci_lower:,} and ${ci_upper:,}\")"
   ]
  },
  {
   "cell_type": "markdown",
   "id": "1798a350-a40a-410a-a36d-fa42ba5e8455",
   "metadata": {},
   "source": [
    "## Calculate the expected portfolio return at the 95% lower and upper confidence intervals based on a 50% increase in the initial investment."
   ]
  },
  {
   "cell_type": "code",
   "execution_count": 33,
   "id": "46e895e3-b2e0-4017-b9dc-2d2a0e1de5b1",
   "metadata": {},
   "outputs": [
    {
     "name": "stdout",
     "output_type": "stream",
     "text": [
      "There is a 95% chance that an initial investment of $30000.0 in the portfolio over the next 30 years will end within in the range of $92,160.57 and $1,191,691.35\n"
     ]
    }
   ],
   "source": [
    "# Set initial investment\n",
    "initial_investment = 20000 * 1.5\n",
    "\n",
    "# Use the lower and upper `95%` confidence intervals to calculate the range of the possible outcomes of our $30,000\n",
    "ci_lower = round(MC_thirtyyears.confidence_interval.iloc[0] * initial_investment, 2)\n",
    "ci_upper = round(MC_thirtyyears.confidence_interval.iloc[1] * initial_investment, 2)\n",
    "\n",
    "# Print results\n",
    "print(f\"There is a 95% chance that an initial investment of ${initial_investment} in the portfolio\"\n",
    "      f\" over the next 30 years will end within in the range of\"\n",
    "      f\" ${ci_lower:,} and ${ci_upper:,}\")"
   ]
  },
  {
   "cell_type": "markdown",
   "id": "3f058f43-4615-46b3-a650-c66ea806ab0b",
   "metadata": {},
   "source": [
    "# Optional Challenge - Early Retirement"
   ]
  },
  {
   "cell_type": "markdown",
   "id": "78894633-8390-413c-b4fa-e4fd0065a6fe",
   "metadata": {},
   "source": [
    "## Five Years Retirement Option"
   ]
  },
  {
   "cell_type": "code",
   "execution_count": 34,
   "id": "aedd887d-77ed-45c3-8feb-5a5e49ccc189",
   "metadata": {},
   "outputs": [],
   "source": [
    "# Configuring a Monte Carlo simulation to forecast 5 years cumulative returns\n",
    "MC_fiveyears = MCSimulation(\n",
    "    portfolio_data = pivottable,\n",
    "    weights = [.40,.60],\n",
    "    num_simulation = 500,\n",
    "    num_trading_days = 252*5\n",
    ")"
   ]
  },
  {
   "cell_type": "code",
   "execution_count": 35,
   "id": "c9518472-54c1-4932-8f92-87fa574c5024",
   "metadata": {},
   "outputs": [
    {
     "name": "stdout",
     "output_type": "stream",
     "text": [
      "Running Monte Carlo simulation number 0.\n",
      "Running Monte Carlo simulation number 10.\n",
      "Running Monte Carlo simulation number 20.\n",
      "Running Monte Carlo simulation number 30.\n",
      "Running Monte Carlo simulation number 40.\n",
      "Running Monte Carlo simulation number 50.\n",
      "Running Monte Carlo simulation number 60.\n",
      "Running Monte Carlo simulation number 70.\n",
      "Running Monte Carlo simulation number 80.\n",
      "Running Monte Carlo simulation number 90.\n",
      "Running Monte Carlo simulation number 100.\n"
     ]
    },
    {
     "name": "stderr",
     "output_type": "stream",
     "text": [
      "/Users/vanessateranm/Desktop/test/UTOR-VIRT-FIN-PT-02-2022-U-LOL-main/Homeworks/05-APIs/Instructions/Starter_Code/MCForecastTools.py:117: PerformanceWarning: DataFrame is highly fragmented.  This is usually the result of calling `frame.insert` many times, which has poor performance.  Consider joining all columns at once using pd.concat(axis=1) instead.  To get a de-fragmented frame, use `newframe = frame.copy()`\n",
      "  portfolio_cumulative_returns[n] = (1 + sim_df.fillna(0)).cumprod()\n"
     ]
    },
    {
     "name": "stdout",
     "output_type": "stream",
     "text": [
      "Running Monte Carlo simulation number 110.\n",
      "Running Monte Carlo simulation number 120.\n",
      "Running Monte Carlo simulation number 130.\n",
      "Running Monte Carlo simulation number 140.\n",
      "Running Monte Carlo simulation number 150.\n",
      "Running Monte Carlo simulation number 160.\n",
      "Running Monte Carlo simulation number 170.\n",
      "Running Monte Carlo simulation number 180.\n",
      "Running Monte Carlo simulation number 190.\n",
      "Running Monte Carlo simulation number 200.\n",
      "Running Monte Carlo simulation number 210.\n",
      "Running Monte Carlo simulation number 220.\n",
      "Running Monte Carlo simulation number 230.\n",
      "Running Monte Carlo simulation number 240.\n",
      "Running Monte Carlo simulation number 250.\n",
      "Running Monte Carlo simulation number 260.\n",
      "Running Monte Carlo simulation number 270.\n",
      "Running Monte Carlo simulation number 280.\n",
      "Running Monte Carlo simulation number 290.\n",
      "Running Monte Carlo simulation number 300.\n",
      "Running Monte Carlo simulation number 310.\n",
      "Running Monte Carlo simulation number 320.\n",
      "Running Monte Carlo simulation number 330.\n",
      "Running Monte Carlo simulation number 340.\n",
      "Running Monte Carlo simulation number 350.\n",
      "Running Monte Carlo simulation number 360.\n",
      "Running Monte Carlo simulation number 370.\n",
      "Running Monte Carlo simulation number 380.\n",
      "Running Monte Carlo simulation number 390.\n",
      "Running Monte Carlo simulation number 400.\n",
      "Running Monte Carlo simulation number 410.\n",
      "Running Monte Carlo simulation number 420.\n",
      "Running Monte Carlo simulation number 430.\n",
      "Running Monte Carlo simulation number 440.\n",
      "Running Monte Carlo simulation number 450.\n",
      "Running Monte Carlo simulation number 460.\n",
      "Running Monte Carlo simulation number 470.\n",
      "Running Monte Carlo simulation number 480.\n",
      "Running Monte Carlo simulation number 490.\n"
     ]
    },
    {
     "data": {
      "text/html": [
       "<div>\n",
       "<style scoped>\n",
       "    .dataframe tbody tr th:only-of-type {\n",
       "        vertical-align: middle;\n",
       "    }\n",
       "\n",
       "    .dataframe tbody tr th {\n",
       "        vertical-align: top;\n",
       "    }\n",
       "\n",
       "    .dataframe thead th {\n",
       "        text-align: right;\n",
       "    }\n",
       "</style>\n",
       "<table border=\"1\" class=\"dataframe\">\n",
       "  <thead>\n",
       "    <tr style=\"text-align: right;\">\n",
       "      <th></th>\n",
       "      <th>0</th>\n",
       "      <th>1</th>\n",
       "      <th>2</th>\n",
       "      <th>3</th>\n",
       "      <th>4</th>\n",
       "      <th>5</th>\n",
       "      <th>6</th>\n",
       "      <th>7</th>\n",
       "      <th>8</th>\n",
       "      <th>9</th>\n",
       "      <th>...</th>\n",
       "      <th>490</th>\n",
       "      <th>491</th>\n",
       "      <th>492</th>\n",
       "      <th>493</th>\n",
       "      <th>494</th>\n",
       "      <th>495</th>\n",
       "      <th>496</th>\n",
       "      <th>497</th>\n",
       "      <th>498</th>\n",
       "      <th>499</th>\n",
       "    </tr>\n",
       "  </thead>\n",
       "  <tbody>\n",
       "    <tr>\n",
       "      <th>0</th>\n",
       "      <td>1.000000</td>\n",
       "      <td>1.000000</td>\n",
       "      <td>1.000000</td>\n",
       "      <td>1.000000</td>\n",
       "      <td>1.000000</td>\n",
       "      <td>1.000000</td>\n",
       "      <td>1.000000</td>\n",
       "      <td>1.000000</td>\n",
       "      <td>1.000000</td>\n",
       "      <td>1.000000</td>\n",
       "      <td>...</td>\n",
       "      <td>1.000000</td>\n",
       "      <td>1.000000</td>\n",
       "      <td>1.000000</td>\n",
       "      <td>1.000000</td>\n",
       "      <td>1.000000</td>\n",
       "      <td>1.000000</td>\n",
       "      <td>1.000000</td>\n",
       "      <td>1.000000</td>\n",
       "      <td>1.000000</td>\n",
       "      <td>1.000000</td>\n",
       "    </tr>\n",
       "    <tr>\n",
       "      <th>1</th>\n",
       "      <td>0.999190</td>\n",
       "      <td>1.004696</td>\n",
       "      <td>1.010587</td>\n",
       "      <td>1.002133</td>\n",
       "      <td>0.994619</td>\n",
       "      <td>0.998360</td>\n",
       "      <td>1.002385</td>\n",
       "      <td>0.998607</td>\n",
       "      <td>1.004213</td>\n",
       "      <td>1.001686</td>\n",
       "      <td>...</td>\n",
       "      <td>1.011002</td>\n",
       "      <td>1.002961</td>\n",
       "      <td>1.015000</td>\n",
       "      <td>1.004528</td>\n",
       "      <td>1.008948</td>\n",
       "      <td>1.005204</td>\n",
       "      <td>0.992475</td>\n",
       "      <td>0.997209</td>\n",
       "      <td>1.006236</td>\n",
       "      <td>0.998843</td>\n",
       "    </tr>\n",
       "    <tr>\n",
       "      <th>2</th>\n",
       "      <td>1.006439</td>\n",
       "      <td>0.998469</td>\n",
       "      <td>1.010424</td>\n",
       "      <td>0.993041</td>\n",
       "      <td>0.994558</td>\n",
       "      <td>1.008086</td>\n",
       "      <td>1.012012</td>\n",
       "      <td>0.987575</td>\n",
       "      <td>1.002208</td>\n",
       "      <td>1.002978</td>\n",
       "      <td>...</td>\n",
       "      <td>1.014395</td>\n",
       "      <td>1.005811</td>\n",
       "      <td>1.006653</td>\n",
       "      <td>0.996571</td>\n",
       "      <td>1.004381</td>\n",
       "      <td>0.997659</td>\n",
       "      <td>0.991857</td>\n",
       "      <td>1.003790</td>\n",
       "      <td>0.998691</td>\n",
       "      <td>1.000176</td>\n",
       "    </tr>\n",
       "    <tr>\n",
       "      <th>3</th>\n",
       "      <td>0.998916</td>\n",
       "      <td>1.004620</td>\n",
       "      <td>1.014990</td>\n",
       "      <td>1.003355</td>\n",
       "      <td>1.000404</td>\n",
       "      <td>0.992304</td>\n",
       "      <td>1.022570</td>\n",
       "      <td>0.997755</td>\n",
       "      <td>1.004322</td>\n",
       "      <td>1.002563</td>\n",
       "      <td>...</td>\n",
       "      <td>1.010121</td>\n",
       "      <td>0.992817</td>\n",
       "      <td>1.009447</td>\n",
       "      <td>1.006449</td>\n",
       "      <td>1.002459</td>\n",
       "      <td>1.008582</td>\n",
       "      <td>0.970687</td>\n",
       "      <td>1.013009</td>\n",
       "      <td>0.997286</td>\n",
       "      <td>1.009236</td>\n",
       "    </tr>\n",
       "    <tr>\n",
       "      <th>4</th>\n",
       "      <td>1.001421</td>\n",
       "      <td>1.004611</td>\n",
       "      <td>1.013205</td>\n",
       "      <td>0.999875</td>\n",
       "      <td>0.998184</td>\n",
       "      <td>1.001732</td>\n",
       "      <td>1.025679</td>\n",
       "      <td>1.006223</td>\n",
       "      <td>1.008617</td>\n",
       "      <td>1.002643</td>\n",
       "      <td>...</td>\n",
       "      <td>1.017139</td>\n",
       "      <td>0.999879</td>\n",
       "      <td>1.013700</td>\n",
       "      <td>1.013730</td>\n",
       "      <td>1.005352</td>\n",
       "      <td>1.016403</td>\n",
       "      <td>0.966962</td>\n",
       "      <td>1.004598</td>\n",
       "      <td>0.998519</td>\n",
       "      <td>1.007768</td>\n",
       "    </tr>\n",
       "    <tr>\n",
       "      <th>...</th>\n",
       "      <td>...</td>\n",
       "      <td>...</td>\n",
       "      <td>...</td>\n",
       "      <td>...</td>\n",
       "      <td>...</td>\n",
       "      <td>...</td>\n",
       "      <td>...</td>\n",
       "      <td>...</td>\n",
       "      <td>...</td>\n",
       "      <td>...</td>\n",
       "      <td>...</td>\n",
       "      <td>...</td>\n",
       "      <td>...</td>\n",
       "      <td>...</td>\n",
       "      <td>...</td>\n",
       "      <td>...</td>\n",
       "      <td>...</td>\n",
       "      <td>...</td>\n",
       "      <td>...</td>\n",
       "      <td>...</td>\n",
       "      <td>...</td>\n",
       "    </tr>\n",
       "    <tr>\n",
       "      <th>1256</th>\n",
       "      <td>1.769149</td>\n",
       "      <td>1.201607</td>\n",
       "      <td>0.872776</td>\n",
       "      <td>1.002837</td>\n",
       "      <td>1.720895</td>\n",
       "      <td>1.740746</td>\n",
       "      <td>1.567757</td>\n",
       "      <td>1.894136</td>\n",
       "      <td>1.639492</td>\n",
       "      <td>1.385340</td>\n",
       "      <td>...</td>\n",
       "      <td>0.865888</td>\n",
       "      <td>1.263976</td>\n",
       "      <td>1.718558</td>\n",
       "      <td>1.769633</td>\n",
       "      <td>1.298743</td>\n",
       "      <td>1.735824</td>\n",
       "      <td>1.309542</td>\n",
       "      <td>1.816488</td>\n",
       "      <td>1.085578</td>\n",
       "      <td>1.408312</td>\n",
       "    </tr>\n",
       "    <tr>\n",
       "      <th>1257</th>\n",
       "      <td>1.779198</td>\n",
       "      <td>1.198672</td>\n",
       "      <td>0.870697</td>\n",
       "      <td>1.011155</td>\n",
       "      <td>1.712612</td>\n",
       "      <td>1.731080</td>\n",
       "      <td>1.562913</td>\n",
       "      <td>1.907617</td>\n",
       "      <td>1.617460</td>\n",
       "      <td>1.388817</td>\n",
       "      <td>...</td>\n",
       "      <td>0.882271</td>\n",
       "      <td>1.265461</td>\n",
       "      <td>1.726360</td>\n",
       "      <td>1.738236</td>\n",
       "      <td>1.295984</td>\n",
       "      <td>1.744228</td>\n",
       "      <td>1.305316</td>\n",
       "      <td>1.827004</td>\n",
       "      <td>1.082032</td>\n",
       "      <td>1.403294</td>\n",
       "    </tr>\n",
       "    <tr>\n",
       "      <th>1258</th>\n",
       "      <td>1.767017</td>\n",
       "      <td>1.196676</td>\n",
       "      <td>0.863062</td>\n",
       "      <td>1.009018</td>\n",
       "      <td>1.724288</td>\n",
       "      <td>1.741368</td>\n",
       "      <td>1.556378</td>\n",
       "      <td>1.891341</td>\n",
       "      <td>1.609796</td>\n",
       "      <td>1.398418</td>\n",
       "      <td>...</td>\n",
       "      <td>0.870083</td>\n",
       "      <td>1.267838</td>\n",
       "      <td>1.724770</td>\n",
       "      <td>1.725714</td>\n",
       "      <td>1.299739</td>\n",
       "      <td>1.735440</td>\n",
       "      <td>1.300036</td>\n",
       "      <td>1.824362</td>\n",
       "      <td>1.085631</td>\n",
       "      <td>1.409090</td>\n",
       "    </tr>\n",
       "    <tr>\n",
       "      <th>1259</th>\n",
       "      <td>1.766708</td>\n",
       "      <td>1.210337</td>\n",
       "      <td>0.864357</td>\n",
       "      <td>1.013081</td>\n",
       "      <td>1.754477</td>\n",
       "      <td>1.764494</td>\n",
       "      <td>1.568827</td>\n",
       "      <td>1.895797</td>\n",
       "      <td>1.618998</td>\n",
       "      <td>1.397228</td>\n",
       "      <td>...</td>\n",
       "      <td>0.864238</td>\n",
       "      <td>1.263249</td>\n",
       "      <td>1.707970</td>\n",
       "      <td>1.735455</td>\n",
       "      <td>1.289922</td>\n",
       "      <td>1.725505</td>\n",
       "      <td>1.318276</td>\n",
       "      <td>1.831593</td>\n",
       "      <td>1.082357</td>\n",
       "      <td>1.425589</td>\n",
       "    </tr>\n",
       "    <tr>\n",
       "      <th>1260</th>\n",
       "      <td>1.786577</td>\n",
       "      <td>1.216381</td>\n",
       "      <td>0.867010</td>\n",
       "      <td>1.010616</td>\n",
       "      <td>1.742871</td>\n",
       "      <td>1.756814</td>\n",
       "      <td>1.579788</td>\n",
       "      <td>1.885612</td>\n",
       "      <td>1.620600</td>\n",
       "      <td>1.423229</td>\n",
       "      <td>...</td>\n",
       "      <td>0.862574</td>\n",
       "      <td>1.264966</td>\n",
       "      <td>1.706223</td>\n",
       "      <td>1.741758</td>\n",
       "      <td>1.301464</td>\n",
       "      <td>1.721738</td>\n",
       "      <td>1.328202</td>\n",
       "      <td>1.836247</td>\n",
       "      <td>1.078184</td>\n",
       "      <td>1.416849</td>\n",
       "    </tr>\n",
       "  </tbody>\n",
       "</table>\n",
       "<p>1261 rows × 500 columns</p>\n",
       "</div>"
      ],
      "text/plain": [
       "           0         1         2         3         4         5         6    \\\n",
       "0     1.000000  1.000000  1.000000  1.000000  1.000000  1.000000  1.000000   \n",
       "1     0.999190  1.004696  1.010587  1.002133  0.994619  0.998360  1.002385   \n",
       "2     1.006439  0.998469  1.010424  0.993041  0.994558  1.008086  1.012012   \n",
       "3     0.998916  1.004620  1.014990  1.003355  1.000404  0.992304  1.022570   \n",
       "4     1.001421  1.004611  1.013205  0.999875  0.998184  1.001732  1.025679   \n",
       "...        ...       ...       ...       ...       ...       ...       ...   \n",
       "1256  1.769149  1.201607  0.872776  1.002837  1.720895  1.740746  1.567757   \n",
       "1257  1.779198  1.198672  0.870697  1.011155  1.712612  1.731080  1.562913   \n",
       "1258  1.767017  1.196676  0.863062  1.009018  1.724288  1.741368  1.556378   \n",
       "1259  1.766708  1.210337  0.864357  1.013081  1.754477  1.764494  1.568827   \n",
       "1260  1.786577  1.216381  0.867010  1.010616  1.742871  1.756814  1.579788   \n",
       "\n",
       "           7         8         9    ...       490       491       492  \\\n",
       "0     1.000000  1.000000  1.000000  ...  1.000000  1.000000  1.000000   \n",
       "1     0.998607  1.004213  1.001686  ...  1.011002  1.002961  1.015000   \n",
       "2     0.987575  1.002208  1.002978  ...  1.014395  1.005811  1.006653   \n",
       "3     0.997755  1.004322  1.002563  ...  1.010121  0.992817  1.009447   \n",
       "4     1.006223  1.008617  1.002643  ...  1.017139  0.999879  1.013700   \n",
       "...        ...       ...       ...  ...       ...       ...       ...   \n",
       "1256  1.894136  1.639492  1.385340  ...  0.865888  1.263976  1.718558   \n",
       "1257  1.907617  1.617460  1.388817  ...  0.882271  1.265461  1.726360   \n",
       "1258  1.891341  1.609796  1.398418  ...  0.870083  1.267838  1.724770   \n",
       "1259  1.895797  1.618998  1.397228  ...  0.864238  1.263249  1.707970   \n",
       "1260  1.885612  1.620600  1.423229  ...  0.862574  1.264966  1.706223   \n",
       "\n",
       "           493       494       495       496       497       498       499  \n",
       "0     1.000000  1.000000  1.000000  1.000000  1.000000  1.000000  1.000000  \n",
       "1     1.004528  1.008948  1.005204  0.992475  0.997209  1.006236  0.998843  \n",
       "2     0.996571  1.004381  0.997659  0.991857  1.003790  0.998691  1.000176  \n",
       "3     1.006449  1.002459  1.008582  0.970687  1.013009  0.997286  1.009236  \n",
       "4     1.013730  1.005352  1.016403  0.966962  1.004598  0.998519  1.007768  \n",
       "...        ...       ...       ...       ...       ...       ...       ...  \n",
       "1256  1.769633  1.298743  1.735824  1.309542  1.816488  1.085578  1.408312  \n",
       "1257  1.738236  1.295984  1.744228  1.305316  1.827004  1.082032  1.403294  \n",
       "1258  1.725714  1.299739  1.735440  1.300036  1.824362  1.085631  1.409090  \n",
       "1259  1.735455  1.289922  1.725505  1.318276  1.831593  1.082357  1.425589  \n",
       "1260  1.741758  1.301464  1.721738  1.328202  1.836247  1.078184  1.416849  \n",
       "\n",
       "[1261 rows x 500 columns]"
      ]
     },
     "execution_count": 35,
     "metadata": {},
     "output_type": "execute_result"
    }
   ],
   "source": [
    "# Running a Monte Carlo simulation to forecast 5 years cumulative returns\n",
    "MC_fiveyears.calc_cumulative_return()"
   ]
  },
  {
   "cell_type": "code",
   "execution_count": 36,
   "id": "1d283ff1-2135-4892-ac04-75472ba4ac3f",
   "metadata": {},
   "outputs": [
    {
     "data": {
      "image/png": "[encoded data removed]",
      "text/plain": [
       "<Figure size 432x288 with 1 Axes>"
      ]
     },
     "metadata": {
      "needs_background": "light"
     },
     "output_type": "display_data"
    }
   ],
   "source": [
    "# Plot simulation outcomes\n",
    "line_plot = MC_fiveyears.plot_simulation()\n",
    "line_plot.get_figure().savefig(\"MC_fiveyear_sim_plot.png\", bbox_inches=\"tight\")"
   ]
  },
  {
   "cell_type": "code",
   "execution_count": 37,
   "id": "0cde4bb8-f3f5-4c01-beff-eba47c5c57f0",
   "metadata": {},
   "outputs": [
    {
     "data": {
      "image/png": "[encoded data removed]",
      "text/plain": [
       "<Figure size 432x288 with 1 Axes>"
      ]
     },
     "metadata": {
      "needs_background": "light"
     },
     "output_type": "display_data"
    }
   ],
   "source": [
    "# Plot probability distribution and confidence intervals\n",
    "dist_plot = MC_fiveyears.plot_distribution()\n",
    "\n",
    "# Save the plot for future usage\n",
    "dist_plot.get_figure().savefig('MC_fiveyear_dist_plot.png',bbox_inches='tight')"
   ]
  },
  {
   "cell_type": "code",
   "execution_count": 38,
   "id": "2a2edac9-5433-4bf5-a00d-d7b8fe3c4c49",
   "metadata": {},
   "outputs": [
    {
     "name": "stdout",
     "output_type": "stream",
     "text": [
      "count           500.000000\n",
      "mean              1.536198\n",
      "std               0.406451\n",
      "min               0.670476\n",
      "25%               1.245470\n",
      "50%               1.503199\n",
      "75%               1.778317\n",
      "max               3.614273\n",
      "95% CI Lower      0.886973\n",
      "95% CI Upper      2.396069\n",
      "Name: 1260, dtype: float64\n"
     ]
    }
   ],
   "source": [
    "# Fetch summary statistics from the Monte Carlo simulation results\n",
    "tbl_cumulative_return = MC_fiveyears.summarize_cumulative_return()\n",
    "\n",
    "# Print summary statistics\n",
    "print(tbl_cumulative_return)"
   ]
  },
  {
   "cell_type": "code",
   "execution_count": 39,
   "id": "59145e21-4fb5-419b-86a6-be540d516a46",
   "metadata": {},
   "outputs": [
    {
     "name": "stdout",
     "output_type": "stream",
     "text": [
      "There is a 95% chance that an initial investment of $20000 in the portfolio over the next 5 years will end within in the range of $17,739.45 and $47,921.38\n"
     ]
    }
   ],
   "source": [
    "# Set initial investment\n",
    "initial_investment = 20000\n",
    "\n",
    "# Use the lower and upper `95%` confidence intervals to calculate the range of the possible outcomes of our $20,000\n",
    "ci_lower_five = round(MC_fiveyears.confidence_interval.iloc[0] * initial_investment, 2)\n",
    "ci_upper_five = round(MC_fiveyears.confidence_interval.iloc[1] * initial_investment, 2)\n",
    "\n",
    "\n",
    "# Print results\n",
    "print(f\"There is a 95% chance that an initial investment of ${initial_investment} in the portfolio\"\n",
    "      f\" over the next 5 years will end within in the range of\"\n",
    "      f\" ${ci_lower_five:,} and ${ci_upper_five:,}\")"
   ]
  },
  {
   "cell_type": "markdown",
   "id": "d97bafc8-77ae-494f-a91c-68e52a25d12c",
   "metadata": {},
   "source": [
    "## Ten Years Retirement Option"
   ]
  },
  {
   "cell_type": "code",
   "execution_count": 40,
   "id": "a828b788-c2c4-4da1-aa16-6b23e94c763b",
   "metadata": {},
   "outputs": [],
   "source": [
    "# Configuring a Monte Carlo simulation to forecast 10 years cumulative returns\n",
    "MC_tenyears = MCSimulation(\n",
    "    portfolio_data = pivottable,\n",
    "    weights = [.40,.60],\n",
    "    num_simulation = 500,\n",
    "    num_trading_days = 252*10\n",
    ")"
   ]
  },
  {
   "cell_type": "code",
   "execution_count": 41,
   "id": "dc732741-ac62-461b-b1ff-6b341e5fb3a5",
   "metadata": {},
   "outputs": [
    {
     "name": "stdout",
     "output_type": "stream",
     "text": [
      "Running Monte Carlo simulation number 0.\n",
      "Running Monte Carlo simulation number 10.\n",
      "Running Monte Carlo simulation number 20.\n",
      "Running Monte Carlo simulation number 30.\n",
      "Running Monte Carlo simulation number 40.\n",
      "Running Monte Carlo simulation number 50.\n",
      "Running Monte Carlo simulation number 60.\n",
      "Running Monte Carlo simulation number 70.\n",
      "Running Monte Carlo simulation number 80.\n",
      "Running Monte Carlo simulation number 90.\n",
      "Running Monte Carlo simulation number 100.\n"
     ]
    },
    {
     "name": "stderr",
     "output_type": "stream",
     "text": [
      "/Users/vanessateranm/Desktop/test/UTOR-VIRT-FIN-PT-02-2022-U-LOL-main/Homeworks/05-APIs/Instructions/Starter_Code/MCForecastTools.py:117: PerformanceWarning: DataFrame is highly fragmented.  This is usually the result of calling `frame.insert` many times, which has poor performance.  Consider joining all columns at once using pd.concat(axis=1) instead.  To get a de-fragmented frame, use `newframe = frame.copy()`\n",
      "  portfolio_cumulative_returns[n] = (1 + sim_df.fillna(0)).cumprod()\n"
     ]
    },
    {
     "name": "stdout",
     "output_type": "stream",
     "text": [
      "Running Monte Carlo simulation number 110.\n",
      "Running Monte Carlo simulation number 120.\n",
      "Running Monte Carlo simulation number 130.\n",
      "Running Monte Carlo simulation number 140.\n",
      "Running Monte Carlo simulation number 150.\n",
      "Running Monte Carlo simulation number 160.\n",
      "Running Monte Carlo simulation number 170.\n",
      "Running Monte Carlo simulation number 180.\n",
      "Running Monte Carlo simulation number 190.\n",
      "Running Monte Carlo simulation number 200.\n",
      "Running Monte Carlo simulation number 210.\n",
      "Running Monte Carlo simulation number 220.\n",
      "Running Monte Carlo simulation number 230.\n",
      "Running Monte Carlo simulation number 240.\n",
      "Running Monte Carlo simulation number 250.\n",
      "Running Monte Carlo simulation number 260.\n",
      "Running Monte Carlo simulation number 270.\n",
      "Running Monte Carlo simulation number 280.\n",
      "Running Monte Carlo simulation number 290.\n",
      "Running Monte Carlo simulation number 300.\n",
      "Running Monte Carlo simulation number 310.\n",
      "Running Monte Carlo simulation number 320.\n",
      "Running Monte Carlo simulation number 330.\n",
      "Running Monte Carlo simulation number 340.\n",
      "Running Monte Carlo simulation number 350.\n",
      "Running Monte Carlo simulation number 360.\n",
      "Running Monte Carlo simulation number 370.\n",
      "Running Monte Carlo simulation number 380.\n",
      "Running Monte Carlo simulation number 390.\n",
      "Running Monte Carlo simulation number 400.\n",
      "Running Monte Carlo simulation number 410.\n",
      "Running Monte Carlo simulation number 420.\n",
      "Running Monte Carlo simulation number 430.\n",
      "Running Monte Carlo simulation number 440.\n",
      "Running Monte Carlo simulation number 450.\n",
      "Running Monte Carlo simulation number 460.\n",
      "Running Monte Carlo simulation number 470.\n",
      "Running Monte Carlo simulation number 480.\n",
      "Running Monte Carlo simulation number 490.\n"
     ]
    },
    {
     "data": {
      "text/html": [
       "<div>\n",
       "<style scoped>\n",
       "    .dataframe tbody tr th:only-of-type {\n",
       "        vertical-align: middle;\n",
       "    }\n",
       "\n",
       "    .dataframe tbody tr th {\n",
       "        vertical-align: top;\n",
       "    }\n",
       "\n",
       "    .dataframe thead th {\n",
       "        text-align: right;\n",
       "    }\n",
       "</style>\n",
       "<table border=\"1\" class=\"dataframe\">\n",
       "  <thead>\n",
       "    <tr style=\"text-align: right;\">\n",
       "      <th></th>\n",
       "      <th>0</th>\n",
       "      <th>1</th>\n",
       "      <th>2</th>\n",
       "      <th>3</th>\n",
       "      <th>4</th>\n",
       "      <th>5</th>\n",
       "      <th>6</th>\n",
       "      <th>7</th>\n",
       "      <th>8</th>\n",
       "      <th>9</th>\n",
       "      <th>...</th>\n",
       "      <th>490</th>\n",
       "      <th>491</th>\n",
       "      <th>492</th>\n",
       "      <th>493</th>\n",
       "      <th>494</th>\n",
       "      <th>495</th>\n",
       "      <th>496</th>\n",
       "      <th>497</th>\n",
       "      <th>498</th>\n",
       "      <th>499</th>\n",
       "    </tr>\n",
       "  </thead>\n",
       "  <tbody>\n",
       "    <tr>\n",
       "      <th>0</th>\n",
       "      <td>1.000000</td>\n",
       "      <td>1.000000</td>\n",
       "      <td>1.000000</td>\n",
       "      <td>1.000000</td>\n",
       "      <td>1.000000</td>\n",
       "      <td>1.000000</td>\n",
       "      <td>1.000000</td>\n",
       "      <td>1.000000</td>\n",
       "      <td>1.000000</td>\n",
       "      <td>1.000000</td>\n",
       "      <td>...</td>\n",
       "      <td>1.000000</td>\n",
       "      <td>1.000000</td>\n",
       "      <td>1.000000</td>\n",
       "      <td>1.000000</td>\n",
       "      <td>1.000000</td>\n",
       "      <td>1.000000</td>\n",
       "      <td>1.000000</td>\n",
       "      <td>1.000000</td>\n",
       "      <td>1.000000</td>\n",
       "      <td>1.000000</td>\n",
       "    </tr>\n",
       "    <tr>\n",
       "      <th>1</th>\n",
       "      <td>1.004122</td>\n",
       "      <td>0.992754</td>\n",
       "      <td>1.004535</td>\n",
       "      <td>1.003195</td>\n",
       "      <td>0.992594</td>\n",
       "      <td>1.007461</td>\n",
       "      <td>1.000229</td>\n",
       "      <td>1.001932</td>\n",
       "      <td>1.008521</td>\n",
       "      <td>0.996262</td>\n",
       "      <td>...</td>\n",
       "      <td>1.006356</td>\n",
       "      <td>1.008044</td>\n",
       "      <td>0.999989</td>\n",
       "      <td>1.007990</td>\n",
       "      <td>0.989859</td>\n",
       "      <td>0.988903</td>\n",
       "      <td>0.991157</td>\n",
       "      <td>1.010572</td>\n",
       "      <td>0.995353</td>\n",
       "      <td>0.997267</td>\n",
       "    </tr>\n",
       "    <tr>\n",
       "      <th>2</th>\n",
       "      <td>1.005574</td>\n",
       "      <td>0.990833</td>\n",
       "      <td>0.999938</td>\n",
       "      <td>1.006966</td>\n",
       "      <td>0.982979</td>\n",
       "      <td>1.011974</td>\n",
       "      <td>1.004754</td>\n",
       "      <td>1.019932</td>\n",
       "      <td>1.014531</td>\n",
       "      <td>1.003604</td>\n",
       "      <td>...</td>\n",
       "      <td>1.002313</td>\n",
       "      <td>0.998642</td>\n",
       "      <td>0.999074</td>\n",
       "      <td>1.007492</td>\n",
       "      <td>0.988982</td>\n",
       "      <td>0.993153</td>\n",
       "      <td>0.995986</td>\n",
       "      <td>1.021801</td>\n",
       "      <td>0.994968</td>\n",
       "      <td>0.996357</td>\n",
       "    </tr>\n",
       "    <tr>\n",
       "      <th>3</th>\n",
       "      <td>0.996826</td>\n",
       "      <td>0.996738</td>\n",
       "      <td>0.996830</td>\n",
       "      <td>1.007761</td>\n",
       "      <td>0.983936</td>\n",
       "      <td>1.024030</td>\n",
       "      <td>1.012012</td>\n",
       "      <td>1.024186</td>\n",
       "      <td>1.012104</td>\n",
       "      <td>0.991383</td>\n",
       "      <td>...</td>\n",
       "      <td>1.005384</td>\n",
       "      <td>1.002499</td>\n",
       "      <td>0.987637</td>\n",
       "      <td>1.007945</td>\n",
       "      <td>0.988005</td>\n",
       "      <td>0.992152</td>\n",
       "      <td>1.005125</td>\n",
       "      <td>1.021029</td>\n",
       "      <td>1.001849</td>\n",
       "      <td>1.004237</td>\n",
       "    </tr>\n",
       "    <tr>\n",
       "      <th>4</th>\n",
       "      <td>0.992960</td>\n",
       "      <td>0.991963</td>\n",
       "      <td>0.992281</td>\n",
       "      <td>1.012722</td>\n",
       "      <td>0.974583</td>\n",
       "      <td>1.024055</td>\n",
       "      <td>1.001527</td>\n",
       "      <td>1.029618</td>\n",
       "      <td>1.021276</td>\n",
       "      <td>0.990569</td>\n",
       "      <td>...</td>\n",
       "      <td>1.005483</td>\n",
       "      <td>1.006446</td>\n",
       "      <td>0.980166</td>\n",
       "      <td>1.000332</td>\n",
       "      <td>0.998265</td>\n",
       "      <td>1.003177</td>\n",
       "      <td>1.006962</td>\n",
       "      <td>1.038739</td>\n",
       "      <td>1.011419</td>\n",
       "      <td>0.995253</td>\n",
       "    </tr>\n",
       "    <tr>\n",
       "      <th>...</th>\n",
       "      <td>...</td>\n",
       "      <td>...</td>\n",
       "      <td>...</td>\n",
       "      <td>...</td>\n",
       "      <td>...</td>\n",
       "      <td>...</td>\n",
       "      <td>...</td>\n",
       "      <td>...</td>\n",
       "      <td>...</td>\n",
       "      <td>...</td>\n",
       "      <td>...</td>\n",
       "      <td>...</td>\n",
       "      <td>...</td>\n",
       "      <td>...</td>\n",
       "      <td>...</td>\n",
       "      <td>...</td>\n",
       "      <td>...</td>\n",
       "      <td>...</td>\n",
       "      <td>...</td>\n",
       "      <td>...</td>\n",
       "      <td>...</td>\n",
       "    </tr>\n",
       "    <tr>\n",
       "      <th>2516</th>\n",
       "      <td>1.431497</td>\n",
       "      <td>1.735804</td>\n",
       "      <td>4.515016</td>\n",
       "      <td>2.252860</td>\n",
       "      <td>3.444177</td>\n",
       "      <td>1.381439</td>\n",
       "      <td>2.717580</td>\n",
       "      <td>2.054992</td>\n",
       "      <td>2.642915</td>\n",
       "      <td>4.580947</td>\n",
       "      <td>...</td>\n",
       "      <td>1.939315</td>\n",
       "      <td>2.223655</td>\n",
       "      <td>1.870922</td>\n",
       "      <td>1.383594</td>\n",
       "      <td>2.479319</td>\n",
       "      <td>1.870523</td>\n",
       "      <td>1.189139</td>\n",
       "      <td>2.495698</td>\n",
       "      <td>3.085852</td>\n",
       "      <td>2.178257</td>\n",
       "    </tr>\n",
       "    <tr>\n",
       "      <th>2517</th>\n",
       "      <td>1.421971</td>\n",
       "      <td>1.753532</td>\n",
       "      <td>4.484796</td>\n",
       "      <td>2.242714</td>\n",
       "      <td>3.465657</td>\n",
       "      <td>1.389884</td>\n",
       "      <td>2.693573</td>\n",
       "      <td>2.038281</td>\n",
       "      <td>2.641319</td>\n",
       "      <td>4.603560</td>\n",
       "      <td>...</td>\n",
       "      <td>1.936178</td>\n",
       "      <td>2.219702</td>\n",
       "      <td>1.868329</td>\n",
       "      <td>1.398480</td>\n",
       "      <td>2.455929</td>\n",
       "      <td>1.886189</td>\n",
       "      <td>1.169712</td>\n",
       "      <td>2.460904</td>\n",
       "      <td>3.074218</td>\n",
       "      <td>2.174691</td>\n",
       "    </tr>\n",
       "    <tr>\n",
       "      <th>2518</th>\n",
       "      <td>1.431718</td>\n",
       "      <td>1.758320</td>\n",
       "      <td>4.520678</td>\n",
       "      <td>2.262578</td>\n",
       "      <td>3.471568</td>\n",
       "      <td>1.387817</td>\n",
       "      <td>2.731243</td>\n",
       "      <td>2.031935</td>\n",
       "      <td>2.603655</td>\n",
       "      <td>4.610225</td>\n",
       "      <td>...</td>\n",
       "      <td>1.952920</td>\n",
       "      <td>2.225978</td>\n",
       "      <td>1.871335</td>\n",
       "      <td>1.383580</td>\n",
       "      <td>2.458448</td>\n",
       "      <td>1.902072</td>\n",
       "      <td>1.167851</td>\n",
       "      <td>2.469764</td>\n",
       "      <td>3.060712</td>\n",
       "      <td>2.189479</td>\n",
       "    </tr>\n",
       "    <tr>\n",
       "      <th>2519</th>\n",
       "      <td>1.447330</td>\n",
       "      <td>1.773289</td>\n",
       "      <td>4.594938</td>\n",
       "      <td>2.271209</td>\n",
       "      <td>3.477369</td>\n",
       "      <td>1.370060</td>\n",
       "      <td>2.703369</td>\n",
       "      <td>2.020356</td>\n",
       "      <td>2.578950</td>\n",
       "      <td>4.607579</td>\n",
       "      <td>...</td>\n",
       "      <td>1.961600</td>\n",
       "      <td>2.229707</td>\n",
       "      <td>1.862379</td>\n",
       "      <td>1.372586</td>\n",
       "      <td>2.460336</td>\n",
       "      <td>1.896928</td>\n",
       "      <td>1.186900</td>\n",
       "      <td>2.484336</td>\n",
       "      <td>3.070208</td>\n",
       "      <td>2.179086</td>\n",
       "    </tr>\n",
       "    <tr>\n",
       "      <th>2520</th>\n",
       "      <td>1.452223</td>\n",
       "      <td>1.785326</td>\n",
       "      <td>4.549504</td>\n",
       "      <td>2.289621</td>\n",
       "      <td>3.449925</td>\n",
       "      <td>1.371813</td>\n",
       "      <td>2.703576</td>\n",
       "      <td>2.003698</td>\n",
       "      <td>2.566336</td>\n",
       "      <td>4.549855</td>\n",
       "      <td>...</td>\n",
       "      <td>1.972907</td>\n",
       "      <td>2.229906</td>\n",
       "      <td>1.863132</td>\n",
       "      <td>1.378947</td>\n",
       "      <td>2.457608</td>\n",
       "      <td>1.884042</td>\n",
       "      <td>1.167672</td>\n",
       "      <td>2.475294</td>\n",
       "      <td>3.085380</td>\n",
       "      <td>2.179185</td>\n",
       "    </tr>\n",
       "  </tbody>\n",
       "</table>\n",
       "<p>2521 rows × 500 columns</p>\n",
       "</div>"
      ],
      "text/plain": [
       "           0         1         2         3         4         5         6    \\\n",
       "0     1.000000  1.000000  1.000000  1.000000  1.000000  1.000000  1.000000   \n",
       "1     1.004122  0.992754  1.004535  1.003195  0.992594  1.007461  1.000229   \n",
       "2     1.005574  0.990833  0.999938  1.006966  0.982979  1.011974  1.004754   \n",
       "3     0.996826  0.996738  0.996830  1.007761  0.983936  1.024030  1.012012   \n",
       "4     0.992960  0.991963  0.992281  1.012722  0.974583  1.024055  1.001527   \n",
       "...        ...       ...       ...       ...       ...       ...       ...   \n",
       "2516  1.431497  1.735804  4.515016  2.252860  3.444177  1.381439  2.717580   \n",
       "2517  1.421971  1.753532  4.484796  2.242714  3.465657  1.389884  2.693573   \n",
       "2518  1.431718  1.758320  4.520678  2.262578  3.471568  1.387817  2.731243   \n",
       "2519  1.447330  1.773289  4.594938  2.271209  3.477369  1.370060  2.703369   \n",
       "2520  1.452223  1.785326  4.549504  2.289621  3.449925  1.371813  2.703576   \n",
       "\n",
       "           7         8         9    ...       490       491       492  \\\n",
       "0     1.000000  1.000000  1.000000  ...  1.000000  1.000000  1.000000   \n",
       "1     1.001932  1.008521  0.996262  ...  1.006356  1.008044  0.999989   \n",
       "2     1.019932  1.014531  1.003604  ...  1.002313  0.998642  0.999074   \n",
       "3     1.024186  1.012104  0.991383  ...  1.005384  1.002499  0.987637   \n",
       "4     1.029618  1.021276  0.990569  ...  1.005483  1.006446  0.980166   \n",
       "...        ...       ...       ...  ...       ...       ...       ...   \n",
       "2516  2.054992  2.642915  4.580947  ...  1.939315  2.223655  1.870922   \n",
       "2517  2.038281  2.641319  4.603560  ...  1.936178  2.219702  1.868329   \n",
       "2518  2.031935  2.603655  4.610225  ...  1.952920  2.225978  1.871335   \n",
       "2519  2.020356  2.578950  4.607579  ...  1.961600  2.229707  1.862379   \n",
       "2520  2.003698  2.566336  4.549855  ...  1.972907  2.229906  1.863132   \n",
       "\n",
       "           493       494       495       496       497       498       499  \n",
       "0     1.000000  1.000000  1.000000  1.000000  1.000000  1.000000  1.000000  \n",
       "1     1.007990  0.989859  0.988903  0.991157  1.010572  0.995353  0.997267  \n",
       "2     1.007492  0.988982  0.993153  0.995986  1.021801  0.994968  0.996357  \n",
       "3     1.007945  0.988005  0.992152  1.005125  1.021029  1.001849  1.004237  \n",
       "4     1.000332  0.998265  1.003177  1.006962  1.038739  1.011419  0.995253  \n",
       "...        ...       ...       ...       ...       ...       ...       ...  \n",
       "2516  1.383594  2.479319  1.870523  1.189139  2.495698  3.085852  2.178257  \n",
       "2517  1.398480  2.455929  1.886189  1.169712  2.460904  3.074218  2.174691  \n",
       "2518  1.383580  2.458448  1.902072  1.167851  2.469764  3.060712  2.189479  \n",
       "2519  1.372586  2.460336  1.896928  1.186900  2.484336  3.070208  2.179086  \n",
       "2520  1.378947  2.457608  1.884042  1.167672  2.475294  3.085380  2.179185  \n",
       "\n",
       "[2521 rows x 500 columns]"
      ]
     },
     "execution_count": 41,
     "metadata": {},
     "output_type": "execute_result"
    }
   ],
   "source": [
    "# Running a Monte Carlo simulation to forecast 10 years cumulative returns\n",
    "MC_tenyears.calc_cumulative_return()"
   ]
  },
  {
   "cell_type": "code",
   "execution_count": 42,
   "id": "e2682ea3-27a0-4e0b-ba48-15bca059aadd",
   "metadata": {},
   "outputs": [
    {
     "data": {
      "image/png": "[encoded data removed]",
      "text/plain": [
       "<Figure size 432x288 with 1 Axes>"
      ]
     },
     "metadata": {
      "needs_background": "light"
     },
     "output_type": "display_data"
    }
   ],
   "source": [
    "# Plot simulation outcomes\n",
    "line_plot = MC_tenyears.plot_simulation()\n",
    "line_plot.get_figure().savefig(\"MC_tenyear_sim_plot.png\", bbox_inches=\"tight\")"
   ]
  },
  {
   "cell_type": "code",
   "execution_count": 43,
   "id": "e5e13082-3c55-4255-9be8-d550301f3c4c",
   "metadata": {},
   "outputs": [
    {
     "data": {
      "image/png": "[encoded data removed]",
      "text/plain": [
       "<Figure size 432x288 with 1 Axes>"
      ]
     },
     "metadata": {
      "needs_background": "light"
     },
     "output_type": "display_data"
    }
   ],
   "source": [
    "# Plot probability distribution and confidence intervals\n",
    "dist_plot = MC_tenyears.plot_distribution()\n",
    "\n",
    "# Save the plot for future usage\n",
    "dist_plot.get_figure().savefig('MC_tenyear_dist_plot.png',bbox_inches='tight')"
   ]
  },
  {
   "cell_type": "code",
   "execution_count": 44,
   "id": "6eba63c7-cf57-4ba9-aff5-081f1ee84da2",
   "metadata": {},
   "outputs": [
    {
     "name": "stdout",
     "output_type": "stream",
     "text": [
      "count           500.000000\n",
      "mean              2.371624\n",
      "std               0.887706\n",
      "min               0.828684\n",
      "25%               1.754159\n",
      "50%               2.230295\n",
      "75%               2.858279\n",
      "max               6.381410\n",
      "95% CI Lower      1.085351\n",
      "95% CI Upper      4.606123\n",
      "Name: 2520, dtype: float64\n"
     ]
    }
   ],
   "source": [
    "# Fetch summary statistics from the Monte Carlo simulation results\n",
    "tbl_cumulative_return = MC_tenyears.summarize_cumulative_return()\n",
    "\n",
    "# Print summary statistics\n",
    "print(tbl_cumulative_return)"
   ]
  },
  {
   "cell_type": "code",
   "execution_count": 45,
   "id": "3b319b1f-c2c7-41d6-abd4-37955712defa",
   "metadata": {},
   "outputs": [
    {
     "name": "stdout",
     "output_type": "stream",
     "text": [
      "There is a 95% chance that an initial investment of $20000 in the portfolio over the next 10 years will end within in the range of $21,707.03 and $92,122.45\n"
     ]
    }
   ],
   "source": [
    "# Set initial investment\n",
    "initial_investment = 20000\n",
    "\n",
    "# Use the lower and upper `95%` confidence intervals to calculate the range of the possible outcomes of our $20,000\n",
    "ci_lower_ten = round(MC_tenyears.confidence_interval.iloc[0] * initial_investment, 2)\n",
    "ci_upper_ten = round(MC_tenyears.confidence_interval.iloc[1] * initial_investment, 2)\n",
    "\n",
    "\n",
    "# Print results\n",
    "print(f\"There is a 95% chance that an initial investment of ${initial_investment} in the portfolio\"\n",
    "      f\" over the next 10 years will end within in the range of\"\n",
    "      f\" ${ci_lower_ten:,} and ${ci_upper_ten:,}\")"
   ]
  },
  {
   "cell_type": "code",
   "execution_count": null,
   "id": "6407a49f-4056-4131-ad87-3df154ea859a",
   "metadata": {},
   "outputs": [],
   "source": []
  }
 ],
 "metadata": {
  "kernelspec": {
   "display_name": "Python 3 (ipykernel)",
   "language": "python",
   "name": "python3"
  },
  "language_info": {
   "codemirror_mode": {
    "name": "ipython",
    "version": 3
   },
   "file_extension": ".py",
   "mimetype": "text/x-python",
   "name": "python",
   "nbconvert_exporter": "python",
   "pygments_lexer": "ipython3",
   "version": "3.7.11"
  }
 },
 "nbformat": 4,
 "nbformat_minor": 5
}
